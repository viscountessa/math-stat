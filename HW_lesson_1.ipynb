{
 "cells": [
  {
   "cell_type": "markdown",
   "metadata": {},
   "source": [
    "1. Из колоды в 52 карты извлекаются случайным образом 4 карты. a) Найти вероятность того, что все карты – крести. б) Найти вероятность, что среди 4-х карт окажется хотя бы один туз."
   ]
  },
  {
   "cell_type": "markdown",
   "metadata": {},
   "source": [
    "а)  Найти вероятность того, что все карты – крести."
   ]
  },
  {
   "cell_type": "markdown",
   "metadata": {},
   "source": [
    " ### $$ $$13/52 * 12/51 * 11/50 * 10/49 = 11/4165 = 0,00264"
   ]
  },
  {
   "cell_type": "markdown",
   "metadata": {},
   "source": [
    "б) Найти вероятность, что среди 4-х карт окажется хотя бы один туз.\n"
   ]
  },
  {
   "cell_type": "markdown",
   "metadata": {},
   "source": [
    "* количество сочетаний из одного туза и трех других карт:"
   ]
  },
  {
   "cell_type": "markdown",
   "metadata": {},
   "source": [
    "С(из 4 по 1) = 4! / 1!(4-1)! = 4! / 3! = 4"
   ]
  },
  {
   "cell_type": "markdown",
   "metadata": {},
   "source": [
    "C(из 48 по 3) = 48! / 3!(48-3)! = 48! / 3! 45! = 17 296"
   ]
  },
  {
   "cell_type": "markdown",
   "metadata": {},
   "source": [
    "C1 = 4 * 17 296 = 69 184"
   ]
  },
  {
   "cell_type": "markdown",
   "metadata": {},
   "source": [
    "* количество сочетаний из двух тузов и двух других карт:"
   ]
  },
  {
   "cell_type": "markdown",
   "metadata": {},
   "source": [
    "С(из 4 по 2) = 4! / 2!(4-2)! = 4! / 2! * 2! = 6"
   ]
  },
  {
   "cell_type": "markdown",
   "metadata": {},
   "source": [
    "C(из 48 по 2) = 48! / 2!(48-2)! = 48! / 2! 46! = 1 128"
   ]
  },
  {
   "cell_type": "markdown",
   "metadata": {},
   "source": [
    "С2 = 6 * 1 128 = 6 768"
   ]
  },
  {
   "cell_type": "markdown",
   "metadata": {},
   "source": [
    "* количество сочетаний из трех тузов и одной другой карты:"
   ]
  },
  {
   "cell_type": "markdown",
   "metadata": {},
   "source": [
    "С(из 4 по 3) = 4! / 3!(4-3)! = 4! / 3! * 1! = 4"
   ]
  },
  {
   "cell_type": "markdown",
   "metadata": {},
   "source": [
    "C(из 48 по 1) = 48! / 1!(48-1)! = 48! / 1! 47! = 48"
   ]
  },
  {
   "cell_type": "markdown",
   "metadata": {},
   "source": [
    "С3 = 4 * 48 = 192"
   ]
  },
  {
   "cell_type": "markdown",
   "metadata": {},
   "source": [
    "* количество сочетаний только из четырех тузов:"
   ]
  },
  {
   "cell_type": "markdown",
   "metadata": {},
   "source": [
    "С(из 4 по 4) = 4! / 4!(4-4)! = 4! / 4! * 0! = 1"
   ]
  },
  {
   "cell_type": "markdown",
   "metadata": {},
   "source": [
    "C(из 48 по 0) = 48! / 0!(48-0)! = 48! / 0! 48! = 1"
   ]
  },
  {
   "cell_type": "markdown",
   "metadata": {},
   "source": [
    "С4 = 1 * 1 = 1"
   ]
  },
  {
   "cell_type": "markdown",
   "metadata": {},
   "source": [
    "количество сочетаний, удовлетворяющих условию задачи:"
   ]
  },
  {
   "cell_type": "markdown",
   "metadata": {},
   "source": [
    "С = С1 + С2 + С3 + С4 = 69 184 + 6 768 + 192 + 1 = 76 145"
   ]
  },
  {
   "cell_type": "markdown",
   "metadata": {},
   "source": [
    "Общее количество сочетаний из 4 карт в колоде из 52 карт:"
   ]
  },
  {
   "cell_type": "markdown",
   "metadata": {},
   "source": [
    "С(из 52 по 4) = 52! / 4!(52-4)! = 52! / 4! 48! = 6 497 400 / 24 = 270 725"
   ]
  },
  {
   "cell_type": "markdown",
   "metadata": {},
   "source": [
    "### $$ $$P = 76 145 / 270 725 = 0,28"
   ]
  },
  {
   "cell_type": "markdown",
   "metadata": {},
   "source": [
    "2. На входной двери подъезда установлен кодовый замок, содержащий десять кнопок с цифрами от 0 до 9. Код содержит три цифры, которые нужно нажать одновременно. Какова вероятность того, что человек, не знающий код, откроет дверь с первой попытки?"
   ]
  },
  {
   "cell_type": "markdown",
   "metadata": {},
   "source": [
    "### $$ $$P = 3 / 10 * 2 / 9 * 1 / 8 = 0,0083"
   ]
  },
  {
   "cell_type": "markdown",
   "metadata": {},
   "source": [
    "3. В ящике имеется 15 деталей, из которых 9 окрашены. Рабочий случайным образом извлекает 3 детали. Какова вероятность того, что все извлеченные детали окрашены?"
   ]
  },
  {
   "cell_type": "markdown",
   "metadata": {},
   "source": [
    "### $$ $$P = 9 / 15 * 8 / 14 * 7 / 13 = 3 / 5 * 4 / 7 * 7 / 13 = 12 / 65 = 0,1846"
   ]
  },
  {
   "cell_type": "markdown",
   "metadata": {},
   "source": [
    "4. В лотерее 100 билетов. Из них 2 выигрышных. Какова вероятность того, что 2 приобретенных билета окажутся выигрышными?"
   ]
  },
  {
   "cell_type": "markdown",
   "metadata": {},
   "source": [
    "### $$ $$P = 2 / 100 * 1 / 99 = 2 / 9900 = 1 / 4450 = 0,00022"
   ]
  },
  {
   "cell_type": "code",
   "execution_count": null,
   "metadata": {},
   "outputs": [],
   "source": []
  }
 ],
 "metadata": {
  "kernelspec": {
   "display_name": "Python 3",
   "language": "python",
   "name": "python3"
  },
  "language_info": {
   "codemirror_mode": {
    "name": "ipython",
    "version": 3
   },
   "file_extension": ".py",
   "mimetype": "text/x-python",
   "name": "python",
   "nbconvert_exporter": "python",
   "pygments_lexer": "ipython3",
   "version": "3.8.3"
  }
 },
 "nbformat": 4,
 "nbformat_minor": 4
}
