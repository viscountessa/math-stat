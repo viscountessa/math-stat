{
 "cells": [
  {
   "cell_type": "markdown",
   "metadata": {},
   "source": [
    "## Тема: EDA (рассчёт описательных статистик + графический анализ с выводами)"
   ]
  },
  {
   "cell_type": "markdown",
   "metadata": {},
   "source": [
    "Данная работа выполнена на основании данных, содержащих в себе информацию обо всех 802 покемонах из семи поколений покемонов. Информация, содержащаяся в этом наборе данных, включает базовую статистику, эффективность против других типов, рост, вес, классификацию, ступеньки яйца, очки опыта, способности.\n",
    "\n",
    "Цель работы: Провести EDA (рассчет описательных статистик и графический анализ) по базовому уровню атаки покемонов."
   ]
  },
  {
   "cell_type": "code",
   "execution_count": null,
   "metadata": {},
   "outputs": [],
   "source": [
    "import matplotlib.pyplot as plt\n",
    "import numpy as np \n",
    "import pandas as pd\n",
    "import seaborn as sns\n",
    "\n",
    "from scipy.stats import norm\n",
    "from scipy import stats\n",
    "\n",
    "%matplotlib inline"
   ]
  },
  {
   "cell_type": "markdown",
   "metadata": {},
   "source": [
    "Работа с датасетом: загрузка данных, просмотр количества признаков и типов данных, наличие пропусков."
   ]
  },
  {
   "cell_type": "code",
   "execution_count": 110,
   "metadata": {},
   "outputs": [],
   "source": [
    "df_pokemon = pd.read_csv('pokemon.csv')"
   ]
  },
  {
   "cell_type": "code",
   "execution_count": 111,
   "metadata": {},
   "outputs": [
    {
     "data": {
      "text/html": [
       "<div>\n",
       "<style scoped>\n",
       "    .dataframe tbody tr th:only-of-type {\n",
       "        vertical-align: middle;\n",
       "    }\n",
       "\n",
       "    .dataframe tbody tr th {\n",
       "        vertical-align: top;\n",
       "    }\n",
       "\n",
       "    .dataframe thead th {\n",
       "        text-align: right;\n",
       "    }\n",
       "</style>\n",
       "<table border=\"1\" class=\"dataframe\">\n",
       "  <thead>\n",
       "    <tr style=\"text-align: right;\">\n",
       "      <th></th>\n",
       "      <th>abilities</th>\n",
       "      <th>against_bug</th>\n",
       "      <th>against_dark</th>\n",
       "      <th>against_dragon</th>\n",
       "      <th>against_electric</th>\n",
       "      <th>against_fairy</th>\n",
       "      <th>against_fight</th>\n",
       "      <th>against_fire</th>\n",
       "      <th>against_flying</th>\n",
       "      <th>against_ghost</th>\n",
       "      <th>...</th>\n",
       "      <th>percentage_male</th>\n",
       "      <th>pokedex_number</th>\n",
       "      <th>sp_attack</th>\n",
       "      <th>sp_defense</th>\n",
       "      <th>speed</th>\n",
       "      <th>type1</th>\n",
       "      <th>type2</th>\n",
       "      <th>weight_kg</th>\n",
       "      <th>generation</th>\n",
       "      <th>is_legendary</th>\n",
       "    </tr>\n",
       "  </thead>\n",
       "  <tbody>\n",
       "    <tr>\n",
       "      <th>0</th>\n",
       "      <td>['Overgrow', 'Chlorophyll']</td>\n",
       "      <td>1.00</td>\n",
       "      <td>1.0</td>\n",
       "      <td>1.0</td>\n",
       "      <td>0.5</td>\n",
       "      <td>0.5</td>\n",
       "      <td>0.5</td>\n",
       "      <td>2.0</td>\n",
       "      <td>2.0</td>\n",
       "      <td>1.0</td>\n",
       "      <td>...</td>\n",
       "      <td>88.1</td>\n",
       "      <td>1</td>\n",
       "      <td>65</td>\n",
       "      <td>65</td>\n",
       "      <td>45</td>\n",
       "      <td>grass</td>\n",
       "      <td>poison</td>\n",
       "      <td>6.9</td>\n",
       "      <td>1</td>\n",
       "      <td>0</td>\n",
       "    </tr>\n",
       "    <tr>\n",
       "      <th>1</th>\n",
       "      <td>['Overgrow', 'Chlorophyll']</td>\n",
       "      <td>1.00</td>\n",
       "      <td>1.0</td>\n",
       "      <td>1.0</td>\n",
       "      <td>0.5</td>\n",
       "      <td>0.5</td>\n",
       "      <td>0.5</td>\n",
       "      <td>2.0</td>\n",
       "      <td>2.0</td>\n",
       "      <td>1.0</td>\n",
       "      <td>...</td>\n",
       "      <td>88.1</td>\n",
       "      <td>2</td>\n",
       "      <td>80</td>\n",
       "      <td>80</td>\n",
       "      <td>60</td>\n",
       "      <td>grass</td>\n",
       "      <td>poison</td>\n",
       "      <td>13.0</td>\n",
       "      <td>1</td>\n",
       "      <td>0</td>\n",
       "    </tr>\n",
       "    <tr>\n",
       "      <th>2</th>\n",
       "      <td>['Overgrow', 'Chlorophyll']</td>\n",
       "      <td>1.00</td>\n",
       "      <td>1.0</td>\n",
       "      <td>1.0</td>\n",
       "      <td>0.5</td>\n",
       "      <td>0.5</td>\n",
       "      <td>0.5</td>\n",
       "      <td>2.0</td>\n",
       "      <td>2.0</td>\n",
       "      <td>1.0</td>\n",
       "      <td>...</td>\n",
       "      <td>88.1</td>\n",
       "      <td>3</td>\n",
       "      <td>122</td>\n",
       "      <td>120</td>\n",
       "      <td>80</td>\n",
       "      <td>grass</td>\n",
       "      <td>poison</td>\n",
       "      <td>100.0</td>\n",
       "      <td>1</td>\n",
       "      <td>0</td>\n",
       "    </tr>\n",
       "    <tr>\n",
       "      <th>3</th>\n",
       "      <td>['Blaze', 'Solar Power']</td>\n",
       "      <td>0.50</td>\n",
       "      <td>1.0</td>\n",
       "      <td>1.0</td>\n",
       "      <td>1.0</td>\n",
       "      <td>0.5</td>\n",
       "      <td>1.0</td>\n",
       "      <td>0.5</td>\n",
       "      <td>1.0</td>\n",
       "      <td>1.0</td>\n",
       "      <td>...</td>\n",
       "      <td>88.1</td>\n",
       "      <td>4</td>\n",
       "      <td>60</td>\n",
       "      <td>50</td>\n",
       "      <td>65</td>\n",
       "      <td>fire</td>\n",
       "      <td>NaN</td>\n",
       "      <td>8.5</td>\n",
       "      <td>1</td>\n",
       "      <td>0</td>\n",
       "    </tr>\n",
       "    <tr>\n",
       "      <th>4</th>\n",
       "      <td>['Blaze', 'Solar Power']</td>\n",
       "      <td>0.50</td>\n",
       "      <td>1.0</td>\n",
       "      <td>1.0</td>\n",
       "      <td>1.0</td>\n",
       "      <td>0.5</td>\n",
       "      <td>1.0</td>\n",
       "      <td>0.5</td>\n",
       "      <td>1.0</td>\n",
       "      <td>1.0</td>\n",
       "      <td>...</td>\n",
       "      <td>88.1</td>\n",
       "      <td>5</td>\n",
       "      <td>80</td>\n",
       "      <td>65</td>\n",
       "      <td>80</td>\n",
       "      <td>fire</td>\n",
       "      <td>NaN</td>\n",
       "      <td>19.0</td>\n",
       "      <td>1</td>\n",
       "      <td>0</td>\n",
       "    </tr>\n",
       "    <tr>\n",
       "      <th>5</th>\n",
       "      <td>['Blaze', 'Solar Power']</td>\n",
       "      <td>0.25</td>\n",
       "      <td>1.0</td>\n",
       "      <td>1.0</td>\n",
       "      <td>2.0</td>\n",
       "      <td>0.5</td>\n",
       "      <td>0.5</td>\n",
       "      <td>0.5</td>\n",
       "      <td>1.0</td>\n",
       "      <td>1.0</td>\n",
       "      <td>...</td>\n",
       "      <td>88.1</td>\n",
       "      <td>6</td>\n",
       "      <td>159</td>\n",
       "      <td>115</td>\n",
       "      <td>100</td>\n",
       "      <td>fire</td>\n",
       "      <td>flying</td>\n",
       "      <td>90.5</td>\n",
       "      <td>1</td>\n",
       "      <td>0</td>\n",
       "    </tr>\n",
       "    <tr>\n",
       "      <th>6</th>\n",
       "      <td>['Torrent', 'Rain Dish']</td>\n",
       "      <td>1.00</td>\n",
       "      <td>1.0</td>\n",
       "      <td>1.0</td>\n",
       "      <td>2.0</td>\n",
       "      <td>1.0</td>\n",
       "      <td>1.0</td>\n",
       "      <td>0.5</td>\n",
       "      <td>1.0</td>\n",
       "      <td>1.0</td>\n",
       "      <td>...</td>\n",
       "      <td>88.1</td>\n",
       "      <td>7</td>\n",
       "      <td>50</td>\n",
       "      <td>64</td>\n",
       "      <td>43</td>\n",
       "      <td>water</td>\n",
       "      <td>NaN</td>\n",
       "      <td>9.0</td>\n",
       "      <td>1</td>\n",
       "      <td>0</td>\n",
       "    </tr>\n",
       "    <tr>\n",
       "      <th>7</th>\n",
       "      <td>['Torrent', 'Rain Dish']</td>\n",
       "      <td>1.00</td>\n",
       "      <td>1.0</td>\n",
       "      <td>1.0</td>\n",
       "      <td>2.0</td>\n",
       "      <td>1.0</td>\n",
       "      <td>1.0</td>\n",
       "      <td>0.5</td>\n",
       "      <td>1.0</td>\n",
       "      <td>1.0</td>\n",
       "      <td>...</td>\n",
       "      <td>88.1</td>\n",
       "      <td>8</td>\n",
       "      <td>65</td>\n",
       "      <td>80</td>\n",
       "      <td>58</td>\n",
       "      <td>water</td>\n",
       "      <td>NaN</td>\n",
       "      <td>22.5</td>\n",
       "      <td>1</td>\n",
       "      <td>0</td>\n",
       "    </tr>\n",
       "    <tr>\n",
       "      <th>8</th>\n",
       "      <td>['Torrent', 'Rain Dish']</td>\n",
       "      <td>1.00</td>\n",
       "      <td>1.0</td>\n",
       "      <td>1.0</td>\n",
       "      <td>2.0</td>\n",
       "      <td>1.0</td>\n",
       "      <td>1.0</td>\n",
       "      <td>0.5</td>\n",
       "      <td>1.0</td>\n",
       "      <td>1.0</td>\n",
       "      <td>...</td>\n",
       "      <td>88.1</td>\n",
       "      <td>9</td>\n",
       "      <td>135</td>\n",
       "      <td>115</td>\n",
       "      <td>78</td>\n",
       "      <td>water</td>\n",
       "      <td>NaN</td>\n",
       "      <td>85.5</td>\n",
       "      <td>1</td>\n",
       "      <td>0</td>\n",
       "    </tr>\n",
       "    <tr>\n",
       "      <th>9</th>\n",
       "      <td>['Shield Dust', 'Run Away']</td>\n",
       "      <td>1.00</td>\n",
       "      <td>1.0</td>\n",
       "      <td>1.0</td>\n",
       "      <td>1.0</td>\n",
       "      <td>1.0</td>\n",
       "      <td>0.5</td>\n",
       "      <td>2.0</td>\n",
       "      <td>2.0</td>\n",
       "      <td>1.0</td>\n",
       "      <td>...</td>\n",
       "      <td>50.0</td>\n",
       "      <td>10</td>\n",
       "      <td>20</td>\n",
       "      <td>20</td>\n",
       "      <td>45</td>\n",
       "      <td>bug</td>\n",
       "      <td>NaN</td>\n",
       "      <td>2.9</td>\n",
       "      <td>1</td>\n",
       "      <td>0</td>\n",
       "    </tr>\n",
       "  </tbody>\n",
       "</table>\n",
       "<p>10 rows × 41 columns</p>\n",
       "</div>"
      ],
      "text/plain": [
       "                     abilities  against_bug  against_dark  against_dragon  \\\n",
       "0  ['Overgrow', 'Chlorophyll']         1.00           1.0             1.0   \n",
       "1  ['Overgrow', 'Chlorophyll']         1.00           1.0             1.0   \n",
       "2  ['Overgrow', 'Chlorophyll']         1.00           1.0             1.0   \n",
       "3     ['Blaze', 'Solar Power']         0.50           1.0             1.0   \n",
       "4     ['Blaze', 'Solar Power']         0.50           1.0             1.0   \n",
       "5     ['Blaze', 'Solar Power']         0.25           1.0             1.0   \n",
       "6     ['Torrent', 'Rain Dish']         1.00           1.0             1.0   \n",
       "7     ['Torrent', 'Rain Dish']         1.00           1.0             1.0   \n",
       "8     ['Torrent', 'Rain Dish']         1.00           1.0             1.0   \n",
       "9  ['Shield Dust', 'Run Away']         1.00           1.0             1.0   \n",
       "\n",
       "   against_electric  against_fairy  against_fight  against_fire  \\\n",
       "0               0.5            0.5            0.5           2.0   \n",
       "1               0.5            0.5            0.5           2.0   \n",
       "2               0.5            0.5            0.5           2.0   \n",
       "3               1.0            0.5            1.0           0.5   \n",
       "4               1.0            0.5            1.0           0.5   \n",
       "5               2.0            0.5            0.5           0.5   \n",
       "6               2.0            1.0            1.0           0.5   \n",
       "7               2.0            1.0            1.0           0.5   \n",
       "8               2.0            1.0            1.0           0.5   \n",
       "9               1.0            1.0            0.5           2.0   \n",
       "\n",
       "   against_flying  against_ghost  ...  percentage_male  pokedex_number  \\\n",
       "0             2.0            1.0  ...             88.1               1   \n",
       "1             2.0            1.0  ...             88.1               2   \n",
       "2             2.0            1.0  ...             88.1               3   \n",
       "3             1.0            1.0  ...             88.1               4   \n",
       "4             1.0            1.0  ...             88.1               5   \n",
       "5             1.0            1.0  ...             88.1               6   \n",
       "6             1.0            1.0  ...             88.1               7   \n",
       "7             1.0            1.0  ...             88.1               8   \n",
       "8             1.0            1.0  ...             88.1               9   \n",
       "9             2.0            1.0  ...             50.0              10   \n",
       "\n",
       "   sp_attack  sp_defense  speed  type1   type2  weight_kg  generation  \\\n",
       "0         65          65     45  grass  poison        6.9           1   \n",
       "1         80          80     60  grass  poison       13.0           1   \n",
       "2        122         120     80  grass  poison      100.0           1   \n",
       "3         60          50     65   fire     NaN        8.5           1   \n",
       "4         80          65     80   fire     NaN       19.0           1   \n",
       "5        159         115    100   fire  flying       90.5           1   \n",
       "6         50          64     43  water     NaN        9.0           1   \n",
       "7         65          80     58  water     NaN       22.5           1   \n",
       "8        135         115     78  water     NaN       85.5           1   \n",
       "9         20          20     45    bug     NaN        2.9           1   \n",
       "\n",
       "   is_legendary  \n",
       "0             0  \n",
       "1             0  \n",
       "2             0  \n",
       "3             0  \n",
       "4             0  \n",
       "5             0  \n",
       "6             0  \n",
       "7             0  \n",
       "8             0  \n",
       "9             0  \n",
       "\n",
       "[10 rows x 41 columns]"
      ]
     },
     "execution_count": 111,
     "metadata": {},
     "output_type": "execute_result"
    }
   ],
   "source": [
    "df_pokemon.head(10)"
   ]
  },
  {
   "cell_type": "code",
   "execution_count": 112,
   "metadata": {},
   "outputs": [
    {
     "name": "stdout",
     "output_type": "stream",
     "text": [
      "<class 'pandas.core.frame.DataFrame'>\n",
      "RangeIndex: 801 entries, 0 to 800\n",
      "Data columns (total 41 columns):\n",
      " #   Column             Non-Null Count  Dtype  \n",
      "---  ------             --------------  -----  \n",
      " 0   abilities          801 non-null    object \n",
      " 1   against_bug        801 non-null    float64\n",
      " 2   against_dark       801 non-null    float64\n",
      " 3   against_dragon     801 non-null    float64\n",
      " 4   against_electric   801 non-null    float64\n",
      " 5   against_fairy      801 non-null    float64\n",
      " 6   against_fight      801 non-null    float64\n",
      " 7   against_fire       801 non-null    float64\n",
      " 8   against_flying     801 non-null    float64\n",
      " 9   against_ghost      801 non-null    float64\n",
      " 10  against_grass      801 non-null    float64\n",
      " 11  against_ground     801 non-null    float64\n",
      " 12  against_ice        801 non-null    float64\n",
      " 13  against_normal     801 non-null    float64\n",
      " 14  against_poison     801 non-null    float64\n",
      " 15  against_psychic    801 non-null    float64\n",
      " 16  against_rock       801 non-null    float64\n",
      " 17  against_steel      801 non-null    float64\n",
      " 18  against_water      801 non-null    float64\n",
      " 19  attack             801 non-null    int64  \n",
      " 20  base_egg_steps     801 non-null    int64  \n",
      " 21  base_happiness     801 non-null    int64  \n",
      " 22  base_total         801 non-null    int64  \n",
      " 23  capture_rate       801 non-null    object \n",
      " 24  classfication      801 non-null    object \n",
      " 25  defense            801 non-null    int64  \n",
      " 26  experience_growth  801 non-null    int64  \n",
      " 27  height_m           781 non-null    float64\n",
      " 28  hp                 801 non-null    int64  \n",
      " 29  japanese_name      801 non-null    object \n",
      " 30  name               801 non-null    object \n",
      " 31  percentage_male    703 non-null    float64\n",
      " 32  pokedex_number     801 non-null    int64  \n",
      " 33  sp_attack          801 non-null    int64  \n",
      " 34  sp_defense         801 non-null    int64  \n",
      " 35  speed              801 non-null    int64  \n",
      " 36  type1              801 non-null    object \n",
      " 37  type2              417 non-null    object \n",
      " 38  weight_kg          781 non-null    float64\n",
      " 39  generation         801 non-null    int64  \n",
      " 40  is_legendary       801 non-null    int64  \n",
      "dtypes: float64(21), int64(13), object(7)\n",
      "memory usage: 256.7+ KB\n",
      "None\n",
      "(801, 41)\n"
     ]
    },
    {
     "data": {
      "text/html": [
       "<div>\n",
       "<style scoped>\n",
       "    .dataframe tbody tr th:only-of-type {\n",
       "        vertical-align: middle;\n",
       "    }\n",
       "\n",
       "    .dataframe tbody tr th {\n",
       "        vertical-align: top;\n",
       "    }\n",
       "\n",
       "    .dataframe thead th {\n",
       "        text-align: right;\n",
       "    }\n",
       "</style>\n",
       "<table border=\"1\" class=\"dataframe\">\n",
       "  <thead>\n",
       "    <tr style=\"text-align: right;\">\n",
       "      <th></th>\n",
       "      <th>count</th>\n",
       "      <th>mean</th>\n",
       "      <th>std</th>\n",
       "      <th>min</th>\n",
       "      <th>25%</th>\n",
       "      <th>50%</th>\n",
       "      <th>75%</th>\n",
       "      <th>max</th>\n",
       "    </tr>\n",
       "  </thead>\n",
       "  <tbody>\n",
       "    <tr>\n",
       "      <th>against_bug</th>\n",
       "      <td>801.0</td>\n",
       "      <td>9.962547e-01</td>\n",
       "      <td>0.597248</td>\n",
       "      <td>0.25</td>\n",
       "      <td>0.5</td>\n",
       "      <td>1.0</td>\n",
       "      <td>1.0</td>\n",
       "      <td>4.0</td>\n",
       "    </tr>\n",
       "    <tr>\n",
       "      <th>against_dark</th>\n",
       "      <td>801.0</td>\n",
       "      <td>1.057116e+00</td>\n",
       "      <td>0.438142</td>\n",
       "      <td>0.25</td>\n",
       "      <td>1.0</td>\n",
       "      <td>1.0</td>\n",
       "      <td>1.0</td>\n",
       "      <td>4.0</td>\n",
       "    </tr>\n",
       "    <tr>\n",
       "      <th>against_dragon</th>\n",
       "      <td>801.0</td>\n",
       "      <td>9.687890e-01</td>\n",
       "      <td>0.353058</td>\n",
       "      <td>0.00</td>\n",
       "      <td>1.0</td>\n",
       "      <td>1.0</td>\n",
       "      <td>1.0</td>\n",
       "      <td>2.0</td>\n",
       "    </tr>\n",
       "    <tr>\n",
       "      <th>against_electric</th>\n",
       "      <td>801.0</td>\n",
       "      <td>1.073970e+00</td>\n",
       "      <td>0.654962</td>\n",
       "      <td>0.00</td>\n",
       "      <td>0.5</td>\n",
       "      <td>1.0</td>\n",
       "      <td>1.0</td>\n",
       "      <td>4.0</td>\n",
       "    </tr>\n",
       "    <tr>\n",
       "      <th>against_fairy</th>\n",
       "      <td>801.0</td>\n",
       "      <td>1.068976e+00</td>\n",
       "      <td>0.522167</td>\n",
       "      <td>0.25</td>\n",
       "      <td>1.0</td>\n",
       "      <td>1.0</td>\n",
       "      <td>1.0</td>\n",
       "      <td>4.0</td>\n",
       "    </tr>\n",
       "    <tr>\n",
       "      <th>against_fight</th>\n",
       "      <td>801.0</td>\n",
       "      <td>1.065543e+00</td>\n",
       "      <td>0.717251</td>\n",
       "      <td>0.00</td>\n",
       "      <td>0.5</td>\n",
       "      <td>1.0</td>\n",
       "      <td>1.0</td>\n",
       "      <td>4.0</td>\n",
       "    </tr>\n",
       "    <tr>\n",
       "      <th>against_fire</th>\n",
       "      <td>801.0</td>\n",
       "      <td>1.135456e+00</td>\n",
       "      <td>0.691853</td>\n",
       "      <td>0.25</td>\n",
       "      <td>0.5</td>\n",
       "      <td>1.0</td>\n",
       "      <td>2.0</td>\n",
       "      <td>4.0</td>\n",
       "    </tr>\n",
       "    <tr>\n",
       "      <th>against_flying</th>\n",
       "      <td>801.0</td>\n",
       "      <td>1.192884e+00</td>\n",
       "      <td>0.604488</td>\n",
       "      <td>0.25</td>\n",
       "      <td>1.0</td>\n",
       "      <td>1.0</td>\n",
       "      <td>1.0</td>\n",
       "      <td>4.0</td>\n",
       "    </tr>\n",
       "    <tr>\n",
       "      <th>against_ghost</th>\n",
       "      <td>801.0</td>\n",
       "      <td>9.850187e-01</td>\n",
       "      <td>0.558256</td>\n",
       "      <td>0.00</td>\n",
       "      <td>1.0</td>\n",
       "      <td>1.0</td>\n",
       "      <td>1.0</td>\n",
       "      <td>4.0</td>\n",
       "    </tr>\n",
       "    <tr>\n",
       "      <th>against_grass</th>\n",
       "      <td>801.0</td>\n",
       "      <td>1.034020e+00</td>\n",
       "      <td>0.788896</td>\n",
       "      <td>0.25</td>\n",
       "      <td>0.5</td>\n",
       "      <td>1.0</td>\n",
       "      <td>1.0</td>\n",
       "      <td>4.0</td>\n",
       "    </tr>\n",
       "    <tr>\n",
       "      <th>against_ground</th>\n",
       "      <td>801.0</td>\n",
       "      <td>1.098002e+00</td>\n",
       "      <td>0.738818</td>\n",
       "      <td>0.00</td>\n",
       "      <td>1.0</td>\n",
       "      <td>1.0</td>\n",
       "      <td>1.0</td>\n",
       "      <td>4.0</td>\n",
       "    </tr>\n",
       "    <tr>\n",
       "      <th>against_ice</th>\n",
       "      <td>801.0</td>\n",
       "      <td>1.208177e+00</td>\n",
       "      <td>0.735356</td>\n",
       "      <td>0.25</td>\n",
       "      <td>0.5</td>\n",
       "      <td>1.0</td>\n",
       "      <td>2.0</td>\n",
       "      <td>4.0</td>\n",
       "    </tr>\n",
       "    <tr>\n",
       "      <th>against_normal</th>\n",
       "      <td>801.0</td>\n",
       "      <td>8.870162e-01</td>\n",
       "      <td>0.266106</td>\n",
       "      <td>0.00</td>\n",
       "      <td>1.0</td>\n",
       "      <td>1.0</td>\n",
       "      <td>1.0</td>\n",
       "      <td>1.0</td>\n",
       "    </tr>\n",
       "    <tr>\n",
       "      <th>against_poison</th>\n",
       "      <td>801.0</td>\n",
       "      <td>9.753433e-01</td>\n",
       "      <td>0.549375</td>\n",
       "      <td>0.00</td>\n",
       "      <td>0.5</td>\n",
       "      <td>1.0</td>\n",
       "      <td>1.0</td>\n",
       "      <td>4.0</td>\n",
       "    </tr>\n",
       "    <tr>\n",
       "      <th>against_psychic</th>\n",
       "      <td>801.0</td>\n",
       "      <td>1.005306e+00</td>\n",
       "      <td>0.495183</td>\n",
       "      <td>0.00</td>\n",
       "      <td>1.0</td>\n",
       "      <td>1.0</td>\n",
       "      <td>1.0</td>\n",
       "      <td>4.0</td>\n",
       "    </tr>\n",
       "    <tr>\n",
       "      <th>against_rock</th>\n",
       "      <td>801.0</td>\n",
       "      <td>1.250312e+00</td>\n",
       "      <td>0.697148</td>\n",
       "      <td>0.25</td>\n",
       "      <td>1.0</td>\n",
       "      <td>1.0</td>\n",
       "      <td>2.0</td>\n",
       "      <td>4.0</td>\n",
       "    </tr>\n",
       "    <tr>\n",
       "      <th>against_steel</th>\n",
       "      <td>801.0</td>\n",
       "      <td>9.834582e-01</td>\n",
       "      <td>0.500117</td>\n",
       "      <td>0.25</td>\n",
       "      <td>0.5</td>\n",
       "      <td>1.0</td>\n",
       "      <td>1.0</td>\n",
       "      <td>4.0</td>\n",
       "    </tr>\n",
       "    <tr>\n",
       "      <th>against_water</th>\n",
       "      <td>801.0</td>\n",
       "      <td>1.058365e+00</td>\n",
       "      <td>0.606562</td>\n",
       "      <td>0.25</td>\n",
       "      <td>0.5</td>\n",
       "      <td>1.0</td>\n",
       "      <td>1.0</td>\n",
       "      <td>4.0</td>\n",
       "    </tr>\n",
       "    <tr>\n",
       "      <th>attack</th>\n",
       "      <td>801.0</td>\n",
       "      <td>7.785768e+01</td>\n",
       "      <td>32.158820</td>\n",
       "      <td>5.00</td>\n",
       "      <td>55.0</td>\n",
       "      <td>75.0</td>\n",
       "      <td>100.0</td>\n",
       "      <td>185.0</td>\n",
       "    </tr>\n",
       "    <tr>\n",
       "      <th>base_egg_steps</th>\n",
       "      <td>801.0</td>\n",
       "      <td>7.191011e+03</td>\n",
       "      <td>6558.220422</td>\n",
       "      <td>1280.00</td>\n",
       "      <td>5120.0</td>\n",
       "      <td>5120.0</td>\n",
       "      <td>6400.0</td>\n",
       "      <td>30720.0</td>\n",
       "    </tr>\n",
       "    <tr>\n",
       "      <th>base_happiness</th>\n",
       "      <td>801.0</td>\n",
       "      <td>6.536205e+01</td>\n",
       "      <td>19.598948</td>\n",
       "      <td>0.00</td>\n",
       "      <td>70.0</td>\n",
       "      <td>70.0</td>\n",
       "      <td>70.0</td>\n",
       "      <td>140.0</td>\n",
       "    </tr>\n",
       "    <tr>\n",
       "      <th>base_total</th>\n",
       "      <td>801.0</td>\n",
       "      <td>4.283770e+02</td>\n",
       "      <td>119.203577</td>\n",
       "      <td>180.00</td>\n",
       "      <td>320.0</td>\n",
       "      <td>435.0</td>\n",
       "      <td>505.0</td>\n",
       "      <td>780.0</td>\n",
       "    </tr>\n",
       "    <tr>\n",
       "      <th>defense</th>\n",
       "      <td>801.0</td>\n",
       "      <td>7.300874e+01</td>\n",
       "      <td>30.769159</td>\n",
       "      <td>5.00</td>\n",
       "      <td>50.0</td>\n",
       "      <td>70.0</td>\n",
       "      <td>90.0</td>\n",
       "      <td>230.0</td>\n",
       "    </tr>\n",
       "    <tr>\n",
       "      <th>experience_growth</th>\n",
       "      <td>801.0</td>\n",
       "      <td>1.054996e+06</td>\n",
       "      <td>160255.835096</td>\n",
       "      <td>600000.00</td>\n",
       "      <td>1000000.0</td>\n",
       "      <td>1000000.0</td>\n",
       "      <td>1059860.0</td>\n",
       "      <td>1640000.0</td>\n",
       "    </tr>\n",
       "    <tr>\n",
       "      <th>height_m</th>\n",
       "      <td>781.0</td>\n",
       "      <td>1.163892e+00</td>\n",
       "      <td>1.080326</td>\n",
       "      <td>0.10</td>\n",
       "      <td>0.6</td>\n",
       "      <td>1.0</td>\n",
       "      <td>1.5</td>\n",
       "      <td>14.5</td>\n",
       "    </tr>\n",
       "    <tr>\n",
       "      <th>hp</th>\n",
       "      <td>801.0</td>\n",
       "      <td>6.895880e+01</td>\n",
       "      <td>26.576015</td>\n",
       "      <td>1.00</td>\n",
       "      <td>50.0</td>\n",
       "      <td>65.0</td>\n",
       "      <td>80.0</td>\n",
       "      <td>255.0</td>\n",
       "    </tr>\n",
       "    <tr>\n",
       "      <th>percentage_male</th>\n",
       "      <td>703.0</td>\n",
       "      <td>5.515576e+01</td>\n",
       "      <td>20.261623</td>\n",
       "      <td>0.00</td>\n",
       "      <td>50.0</td>\n",
       "      <td>50.0</td>\n",
       "      <td>50.0</td>\n",
       "      <td>100.0</td>\n",
       "    </tr>\n",
       "    <tr>\n",
       "      <th>pokedex_number</th>\n",
       "      <td>801.0</td>\n",
       "      <td>4.010000e+02</td>\n",
       "      <td>231.373075</td>\n",
       "      <td>1.00</td>\n",
       "      <td>201.0</td>\n",
       "      <td>401.0</td>\n",
       "      <td>601.0</td>\n",
       "      <td>801.0</td>\n",
       "    </tr>\n",
       "    <tr>\n",
       "      <th>sp_attack</th>\n",
       "      <td>801.0</td>\n",
       "      <td>7.130587e+01</td>\n",
       "      <td>32.353826</td>\n",
       "      <td>10.00</td>\n",
       "      <td>45.0</td>\n",
       "      <td>65.0</td>\n",
       "      <td>91.0</td>\n",
       "      <td>194.0</td>\n",
       "    </tr>\n",
       "    <tr>\n",
       "      <th>sp_defense</th>\n",
       "      <td>801.0</td>\n",
       "      <td>7.091136e+01</td>\n",
       "      <td>27.942501</td>\n",
       "      <td>20.00</td>\n",
       "      <td>50.0</td>\n",
       "      <td>66.0</td>\n",
       "      <td>90.0</td>\n",
       "      <td>230.0</td>\n",
       "    </tr>\n",
       "    <tr>\n",
       "      <th>speed</th>\n",
       "      <td>801.0</td>\n",
       "      <td>6.633458e+01</td>\n",
       "      <td>28.907662</td>\n",
       "      <td>5.00</td>\n",
       "      <td>45.0</td>\n",
       "      <td>65.0</td>\n",
       "      <td>85.0</td>\n",
       "      <td>180.0</td>\n",
       "    </tr>\n",
       "    <tr>\n",
       "      <th>weight_kg</th>\n",
       "      <td>781.0</td>\n",
       "      <td>6.137810e+01</td>\n",
       "      <td>109.354766</td>\n",
       "      <td>0.10</td>\n",
       "      <td>9.0</td>\n",
       "      <td>27.3</td>\n",
       "      <td>64.8</td>\n",
       "      <td>999.9</td>\n",
       "    </tr>\n",
       "    <tr>\n",
       "      <th>generation</th>\n",
       "      <td>801.0</td>\n",
       "      <td>3.690387e+00</td>\n",
       "      <td>1.930420</td>\n",
       "      <td>1.00</td>\n",
       "      <td>2.0</td>\n",
       "      <td>4.0</td>\n",
       "      <td>5.0</td>\n",
       "      <td>7.0</td>\n",
       "    </tr>\n",
       "    <tr>\n",
       "      <th>is_legendary</th>\n",
       "      <td>801.0</td>\n",
       "      <td>8.739076e-02</td>\n",
       "      <td>0.282583</td>\n",
       "      <td>0.00</td>\n",
       "      <td>0.0</td>\n",
       "      <td>0.0</td>\n",
       "      <td>0.0</td>\n",
       "      <td>1.0</td>\n",
       "    </tr>\n",
       "  </tbody>\n",
       "</table>\n",
       "</div>"
      ],
      "text/plain": [
       "                   count          mean            std        min        25%  \\\n",
       "against_bug        801.0  9.962547e-01       0.597248       0.25        0.5   \n",
       "against_dark       801.0  1.057116e+00       0.438142       0.25        1.0   \n",
       "against_dragon     801.0  9.687890e-01       0.353058       0.00        1.0   \n",
       "against_electric   801.0  1.073970e+00       0.654962       0.00        0.5   \n",
       "against_fairy      801.0  1.068976e+00       0.522167       0.25        1.0   \n",
       "against_fight      801.0  1.065543e+00       0.717251       0.00        0.5   \n",
       "against_fire       801.0  1.135456e+00       0.691853       0.25        0.5   \n",
       "against_flying     801.0  1.192884e+00       0.604488       0.25        1.0   \n",
       "against_ghost      801.0  9.850187e-01       0.558256       0.00        1.0   \n",
       "against_grass      801.0  1.034020e+00       0.788896       0.25        0.5   \n",
       "against_ground     801.0  1.098002e+00       0.738818       0.00        1.0   \n",
       "against_ice        801.0  1.208177e+00       0.735356       0.25        0.5   \n",
       "against_normal     801.0  8.870162e-01       0.266106       0.00        1.0   \n",
       "against_poison     801.0  9.753433e-01       0.549375       0.00        0.5   \n",
       "against_psychic    801.0  1.005306e+00       0.495183       0.00        1.0   \n",
       "against_rock       801.0  1.250312e+00       0.697148       0.25        1.0   \n",
       "against_steel      801.0  9.834582e-01       0.500117       0.25        0.5   \n",
       "against_water      801.0  1.058365e+00       0.606562       0.25        0.5   \n",
       "attack             801.0  7.785768e+01      32.158820       5.00       55.0   \n",
       "base_egg_steps     801.0  7.191011e+03    6558.220422    1280.00     5120.0   \n",
       "base_happiness     801.0  6.536205e+01      19.598948       0.00       70.0   \n",
       "base_total         801.0  4.283770e+02     119.203577     180.00      320.0   \n",
       "defense            801.0  7.300874e+01      30.769159       5.00       50.0   \n",
       "experience_growth  801.0  1.054996e+06  160255.835096  600000.00  1000000.0   \n",
       "height_m           781.0  1.163892e+00       1.080326       0.10        0.6   \n",
       "hp                 801.0  6.895880e+01      26.576015       1.00       50.0   \n",
       "percentage_male    703.0  5.515576e+01      20.261623       0.00       50.0   \n",
       "pokedex_number     801.0  4.010000e+02     231.373075       1.00      201.0   \n",
       "sp_attack          801.0  7.130587e+01      32.353826      10.00       45.0   \n",
       "sp_defense         801.0  7.091136e+01      27.942501      20.00       50.0   \n",
       "speed              801.0  6.633458e+01      28.907662       5.00       45.0   \n",
       "weight_kg          781.0  6.137810e+01     109.354766       0.10        9.0   \n",
       "generation         801.0  3.690387e+00       1.930420       1.00        2.0   \n",
       "is_legendary       801.0  8.739076e-02       0.282583       0.00        0.0   \n",
       "\n",
       "                         50%        75%        max  \n",
       "against_bug              1.0        1.0        4.0  \n",
       "against_dark             1.0        1.0        4.0  \n",
       "against_dragon           1.0        1.0        2.0  \n",
       "against_electric         1.0        1.0        4.0  \n",
       "against_fairy            1.0        1.0        4.0  \n",
       "against_fight            1.0        1.0        4.0  \n",
       "against_fire             1.0        2.0        4.0  \n",
       "against_flying           1.0        1.0        4.0  \n",
       "against_ghost            1.0        1.0        4.0  \n",
       "against_grass            1.0        1.0        4.0  \n",
       "against_ground           1.0        1.0        4.0  \n",
       "against_ice              1.0        2.0        4.0  \n",
       "against_normal           1.0        1.0        1.0  \n",
       "against_poison           1.0        1.0        4.0  \n",
       "against_psychic          1.0        1.0        4.0  \n",
       "against_rock             1.0        2.0        4.0  \n",
       "against_steel            1.0        1.0        4.0  \n",
       "against_water            1.0        1.0        4.0  \n",
       "attack                  75.0      100.0      185.0  \n",
       "base_egg_steps        5120.0     6400.0    30720.0  \n",
       "base_happiness          70.0       70.0      140.0  \n",
       "base_total             435.0      505.0      780.0  \n",
       "defense                 70.0       90.0      230.0  \n",
       "experience_growth  1000000.0  1059860.0  1640000.0  \n",
       "height_m                 1.0        1.5       14.5  \n",
       "hp                      65.0       80.0      255.0  \n",
       "percentage_male         50.0       50.0      100.0  \n",
       "pokedex_number         401.0      601.0      801.0  \n",
       "sp_attack               65.0       91.0      194.0  \n",
       "sp_defense              66.0       90.0      230.0  \n",
       "speed                   65.0       85.0      180.0  \n",
       "weight_kg               27.3       64.8      999.9  \n",
       "generation               4.0        5.0        7.0  \n",
       "is_legendary             0.0        0.0        1.0  "
      ]
     },
     "execution_count": 112,
     "metadata": {},
     "output_type": "execute_result"
    }
   ],
   "source": [
    "print(df_pokemon.info())\n",
    "print(df_pokemon.shape)\n",
    "df_pokemon.describe().T"
   ]
  },
  {
   "cell_type": "markdown",
   "metadata": {},
   "source": [
    "Вывод показывает, что в датасете есть 801 запись с 41 столбцом."
   ]
  },
  {
   "cell_type": "code",
   "execution_count": 113,
   "metadata": {},
   "outputs": [],
   "source": [
    "feat_numeric = list(df_pokemon.select_dtypes(exclude='object').columns)"
   ]
  },
  {
   "cell_type": "code",
   "execution_count": 114,
   "metadata": {},
   "outputs": [
    {
     "data": {
      "image/png": "[encoded data removed]",
      "text/plain": [
       "<Figure size 1152x1152 with 36 Axes>"
      ]
     },
     "metadata": {
      "needs_background": "light"
     },
     "output_type": "display_data"
    }
   ],
   "source": [
    "df_pokemon[feat_numeric].hist(\n",
    "    figsize = (16, 16)\n",
    ")\n",
    "plt.show()"
   ]
  },
  {
   "cell_type": "markdown",
   "metadata": {},
   "source": [
    "Поиск значений NaN:"
   ]
  },
  {
   "cell_type": "code",
   "execution_count": 116,
   "metadata": {},
   "outputs": [
    {
     "data": {
      "text/plain": [
       "0"
      ]
     },
     "execution_count": 116,
     "metadata": {},
     "output_type": "execute_result"
    }
   ],
   "source": [
    "df_pokemon['attack'].isnull().sum() "
   ]
  },
  {
   "cell_type": "markdown",
   "metadata": {},
   "source": [
    "Количество уникальных значений:"
   ]
  },
  {
   "cell_type": "code",
   "execution_count": 117,
   "metadata": {},
   "outputs": [
    {
     "data": {
      "text/plain": [
       "114"
      ]
     },
     "execution_count": 117,
     "metadata": {},
     "output_type": "execute_result"
    }
   ],
   "source": [
    "df_pokemon['attack'].nunique()"
   ]
  },
  {
   "cell_type": "markdown",
   "metadata": {},
   "source": [
    "### EDA"
   ]
  },
  {
   "cell_type": "markdown",
   "metadata": {},
   "source": [
    "Для определения распределения данных для переменной attack (уровень базовой атаки покемона) строим гистограмму, а также график квантиль-квантиль(QQ)."
   ]
  },
  {
   "cell_type": "code",
   "execution_count": 115,
   "metadata": {},
   "outputs": [
    {
     "name": "stdout",
     "output_type": "stream",
     "text": [
      "mu = 77.86 and sigma = 32.14\n"
     ]
    },
    {
     "data": {
      "image/png": "[encoded data removed]",
      "text/plain": [
       "<Figure size 432x288 with 1 Axes>"
      ]
     },
     "metadata": {
      "needs_background": "light"
     },
     "output_type": "display_data"
    },
    {
     "data": {
      "image/png": "[encoded data removed]",
      "text/plain": [
       "<Figure size 432x288 with 1 Axes>"
      ]
     },
     "metadata": {
      "needs_background": "light"
     },
     "output_type": "display_data"
    }
   ],
   "source": [
    "sns.distplot(df_pokemon['attack'], fit=norm)\n",
    "\n",
    "mu, sigma = norm.fit(df_pokemon['attack'])\n",
    "\n",
    "print(f'mu = {mu:.2f} and sigma = {sigma:.2f}')\n",
    "\n",
    "plt.legend(\n",
    "    [f'Normal dist. ($\\mu=$ {mu:.2f} and $\\sigma=$ {sigma:.2f} )'])\n",
    "plt.ylabel('Frequency')\n",
    "plt.title('Square distribution')\n",
    "\n",
    "# QQ-plot\n",
    "fig = plt.figure()\n",
    "res = stats.probplot(df_pokemon['attack'], plot=plt)\n",
    "plt.show()"
   ]
  },
  {
   "cell_type": "markdown",
   "metadata": {},
   "source": [
    "Исходя из визуализации данных на диаграмме и графике, можно сделать вывод о нормальности распределения. Подтвердим эту версию расчетами - о нормальности распределения еще можно судить по коэффициенту ассиметрии и коэффициенту эксцесса (для нормального распределения они равны 0)."
   ]
  },
  {
   "cell_type": "markdown",
   "metadata": {},
   "source": [
    "Вычисляем коэффициент ассиметрии:"
   ]
  },
  {
   "cell_type": "code",
   "execution_count": 61,
   "metadata": {},
   "outputs": [
    {
     "data": {
      "text/plain": [
       "0.5308107399470579"
      ]
     },
     "execution_count": 61,
     "metadata": {},
     "output_type": "execute_result"
    }
   ],
   "source": [
    "df_pokemon['attack'].skew()"
   ]
  },
  {
   "cell_type": "markdown",
   "metadata": {},
   "source": [
    "Вычисляем коэффициент эксцесса:"
   ]
  },
  {
   "cell_type": "code",
   "execution_count": 62,
   "metadata": {},
   "outputs": [
    {
     "data": {
      "text/plain": [
       "0.07133683169950666"
      ]
     },
     "execution_count": 62,
     "metadata": {},
     "output_type": "execute_result"
    }
   ],
   "source": [
    "df_pokemon['attack'].kurtosis()"
   ]
  },
  {
   "cell_type": "markdown",
   "metadata": {},
   "source": [
    "Исходя из значений коэффициентов, можно сделать вывод, что распределение максимально приближено к нормальному."
   ]
  },
  {
   "cell_type": "markdown",
   "metadata": {},
   "source": [
    "Сводка статистик:"
   ]
  },
  {
   "cell_type": "code",
   "execution_count": 75,
   "metadata": {},
   "outputs": [
    {
     "data": {
      "text/plain": [
       "count    801.000000\n",
       "mean      77.857678\n",
       "std       32.158820\n",
       "min        5.000000\n",
       "25%       55.000000\n",
       "50%       75.000000\n",
       "75%      100.000000\n",
       "max      185.000000\n",
       "Name: attack, dtype: float64"
      ]
     },
     "execution_count": 75,
     "metadata": {},
     "output_type": "execute_result"
    }
   ],
   "source": [
    "df_pokemon['attack'].describe()"
   ]
  },
  {
   "cell_type": "markdown",
   "metadata": {},
   "source": [
    "Находим среднее (с помощью математических операций и встроенных статистических функций):"
   ]
  },
  {
   "cell_type": "code",
   "execution_count": 76,
   "metadata": {},
   "outputs": [
    {
     "data": {
      "text/plain": [
       "77.85767790262172"
      ]
     },
     "execution_count": 76,
     "metadata": {},
     "output_type": "execute_result"
    }
   ],
   "source": [
    "attack_mean = sum(df_pokemon['attack']) / df_pokemon['attack'].count()\n",
    "attack_mean"
   ]
  },
  {
   "cell_type": "code",
   "execution_count": 77,
   "metadata": {},
   "outputs": [
    {
     "data": {
      "text/plain": [
       "77.85767790262172"
      ]
     },
     "execution_count": 77,
     "metadata": {},
     "output_type": "execute_result"
    }
   ],
   "source": [
    "df_pokemon['attack'].mean()"
   ]
  },
  {
   "cell_type": "markdown",
   "metadata": {},
   "source": [
    "Находим медиану:"
   ]
  },
  {
   "cell_type": "code",
   "execution_count": 31,
   "metadata": {},
   "outputs": [
    {
     "data": {
      "text/plain": [
       "75.0"
      ]
     },
     "execution_count": 31,
     "metadata": {},
     "output_type": "execute_result"
    }
   ],
   "source": [
    "df_pokemon['attack'].median()"
   ]
  },
  {
   "cell_type": "markdown",
   "metadata": {},
   "source": [
    "Находим моду:"
   ]
  },
  {
   "cell_type": "code",
   "execution_count": 32,
   "metadata": {},
   "outputs": [
    {
     "data": {
      "text/plain": [
       "0    100\n",
       "dtype: int64"
      ]
     },
     "execution_count": 32,
     "metadata": {},
     "output_type": "execute_result"
    }
   ],
   "source": [
    "df_pokemon['attack'].mode()"
   ]
  },
  {
   "cell_type": "markdown",
   "metadata": {},
   "source": [
    "Вычисляем несмещенную дисперсию (с помощью математических операций и встроенных статистических функций):"
   ]
  },
  {
   "cell_type": "markdown",
   "metadata": {},
   "source": [
    "Несмещенная оценка дисперсии:"
   ]
  },
  {
   "cell_type": "markdown",
   "metadata": {},
   "source": [
    "$$\\sigma^2 = \\frac{\\sum\\limits_{i=1}^{n} (x_i - \\overline{x})^2}{n-1}$$"
   ]
  },
  {
   "cell_type": "code",
   "execution_count": 118,
   "metadata": {},
   "outputs": [
    {
     "data": {
      "text/plain": [
       "1034.1897191011237"
      ]
     },
     "execution_count": 118,
     "metadata": {},
     "output_type": "execute_result"
    }
   ],
   "source": [
    "attack_variance = ((df_pokemon['attack'] - df_pokemon['attack'].mean())**2).sum() / (df_pokemon['attack'].count() - 1)\n",
    "attack_variance"
   ]
  },
  {
   "cell_type": "code",
   "execution_count": 119,
   "metadata": {},
   "outputs": [
    {
     "data": {
      "text/plain": [
       "1034.1897191011228"
      ]
     },
     "execution_count": 119,
     "metadata": {},
     "output_type": "execute_result"
    }
   ],
   "source": [
    "df_pokemon['attack'].var()"
   ]
  },
  {
   "cell_type": "markdown",
   "metadata": {},
   "source": [
    "Вычисляем стандартное отклонение (с помощью математических операций и встроенных статистических функций):"
   ]
  },
  {
   "cell_type": "markdown",
   "metadata": {},
   "source": [
    "$$\\sigma = \\sqrt{\\frac{\\sum\\limits_{i=1}^{n} (x_i - \\overline{x})^2}{n-1}}$$"
   ]
  },
  {
   "cell_type": "code",
   "execution_count": 120,
   "metadata": {},
   "outputs": [
    {
     "data": {
      "text/plain": [
       "32.1588202380175"
      ]
     },
     "execution_count": 120,
     "metadata": {},
     "output_type": "execute_result"
    }
   ],
   "source": [
    "attack_std = np.sqrt(((df_pokemon['attack'] - df_pokemon['attack'].mean())**2).sum() / (df_pokemon['attack'].count()-1))\n",
    "attack_std"
   ]
  },
  {
   "cell_type": "code",
   "execution_count": 121,
   "metadata": {},
   "outputs": [
    {
     "data": {
      "text/plain": [
       "32.15882023801748"
      ]
     },
     "execution_count": 121,
     "metadata": {},
     "output_type": "execute_result"
    }
   ],
   "source": [
    "df_pokemon['attack'].std(ddof=1)"
   ]
  },
  {
   "cell_type": "markdown",
   "metadata": {},
   "source": [
    "Строим ящичную диаграмму с усами:"
   ]
  },
  {
   "cell_type": "code",
   "execution_count": 122,
   "metadata": {},
   "outputs": [
    {
     "data": {
      "image/png": "[encoded data removed]",
      "text/plain": [
       "<Figure size 432x288 with 1 Axes>"
      ]
     },
     "metadata": {
      "needs_background": "light"
     },
     "output_type": "display_data"
    }
   ],
   "source": [
    "sns.boxplot(df_pokemon['attack'], orient='v')\n",
    "plt.show()"
   ]
  },
  {
   "cell_type": "markdown",
   "metadata": {},
   "source": [
    "С помощью данной ящичной диаграммы с усами мы визуализировали распределение данных признака, основанное на описательных статистиках. Исходя из диаграммы мы можем сделать следующие выводы: наглядно видна медиана, равная 75, нижняя сторона ящика - 1-й квартиль, а верхняя - 3-й квартиль. Усы охватывают значения в пределах 1,5 межквартильного размаха от границ ящика. Данные, расположенные выше верхней горизонтальной черты - выбросы."
   ]
  }
 ],
 "metadata": {
  "kernelspec": {
   "display_name": "Python 3",
   "language": "python",
   "name": "python3"
  },
  "language_info": {
   "codemirror_mode": {
    "name": "ipython",
    "version": 3
   },
   "file_extension": ".py",
   "mimetype": "text/x-python",
   "name": "python",
   "nbconvert_exporter": "python",
   "pygments_lexer": "ipython3",
   "version": "3.8.3"
  }
 },
 "nbformat": 4,
 "nbformat_minor": 4
}
