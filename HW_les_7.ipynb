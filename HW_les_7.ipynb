{
 "cells": [
  {
   "cell_type": "code",
   "execution_count": 27,
   "metadata": {},
   "outputs": [],
   "source": [
    "import numpy as np\n",
    "import matplotlib.pyplot as plt"
   ]
  },
  {
   "cell_type": "markdown",
   "metadata": {},
   "source": [
    "1. Даны значения величины заработной платы заемщиков банка (zp) и значения их поведенческого кредитного скоринга (ks): zp = [35, 45, 190, 200, 40, 70, 54, 150, 120, 110], ks = [401, 574, 874, 919, 459, 739, 653, 902, 746, 832]. Используя математические операции, посчитать коэффициенты линейной регрессии, приняв за X заработную плату (то есть, zp - признак), а за y - значения скорингового балла (то есть, ks - целевая переменная). Произвести расчет как с использованием intercept, так и без."
   ]
  },
  {
   "cell_type": "code",
   "execution_count": 17,
   "metadata": {},
   "outputs": [],
   "source": [
    "X = np.array([35, 45, 190, 200, 40, 70, 54, 150, 120, 110], dtype=np.float64)\n",
    "y = np.array([401, 574, 874, 919, 459, 739, 653, 902, 746, 832], dtype=np.float64)\n",
    "n = 10"
   ]
  },
  {
   "cell_type": "code",
   "execution_count": 18,
   "metadata": {},
   "outputs": [
    {
     "data": {
      "text/plain": [
       "2.620538882402765"
      ]
     },
     "execution_count": 18,
     "metadata": {},
     "output_type": "execute_result"
    }
   ],
   "source": [
    "b = (np.mean(X * y) - np.mean(X) * np.mean(y)) / (np.mean(X**2) - np.mean(X) ** 2)\n",
    "b"
   ]
  },
  {
   "cell_type": "code",
   "execution_count": 19,
   "metadata": {},
   "outputs": [
    {
     "data": {
      "text/plain": [
       "444.1773573243596"
      ]
     },
     "execution_count": 19,
     "metadata": {},
     "output_type": "execute_result"
    }
   ],
   "source": [
    "a = np.mean(y) - b * np.mean(X)\n",
    "a"
   ]
  },
  {
   "cell_type": "markdown",
   "metadata": {},
   "source": [
    "Уравнение регрессии имеет вид (коэффициенты округлены до сотых):"
   ]
  },
  {
   "cell_type": "markdown",
   "metadata": {},
   "source": [
    "$$y = 444.18 + 2.62 \\cdot X$$"
   ]
  },
  {
   "cell_type": "markdown",
   "metadata": {},
   "source": [
    "Коэффициент корреляции $r$:"
   ]
  },
  {
   "cell_type": "code",
   "execution_count": 20,
   "metadata": {},
   "outputs": [
    {
     "data": {
      "text/plain": [
       "0.8874900920739162"
      ]
     },
     "execution_count": 20,
     "metadata": {},
     "output_type": "execute_result"
    }
   ],
   "source": [
    "r = b * np.std(X) / np.std(y)\n",
    "r"
   ]
  },
  {
   "cell_type": "markdown",
   "metadata": {},
   "source": [
    "Коэффициент детерминации $R^2$:"
   ]
  },
  {
   "cell_type": "code",
   "execution_count": 21,
   "metadata": {},
   "outputs": [
    {
     "data": {
      "text/plain": [
       "0.7876386635293682"
      ]
     },
     "execution_count": 21,
     "metadata": {},
     "output_type": "execute_result"
    }
   ],
   "source": [
    "R2 = r**2\n",
    "R2"
   ]
  },
  {
   "cell_type": "markdown",
   "metadata": {},
   "source": [
    "Это означает, что 78.8% вариации значения скорингового бала заёмщика ($y$) объясняется вариацией фактора $X$ — величиной заработной платы."
   ]
  },
  {
   "cell_type": "code",
   "execution_count": 22,
   "metadata": {},
   "outputs": [
    {
     "data": {
      "text/plain": [
       "array([535.89621821, 562.10160703, 942.07974498, 968.2851338 ,\n",
       "       548.99891262, 627.61507909, 585.68645697, 837.25818968,\n",
       "       758.64202321, 732.43663439])"
      ]
     },
     "execution_count": 22,
     "metadata": {},
     "output_type": "execute_result"
    }
   ],
   "source": [
    "y_pred = a + b * X\n",
    "y_pred"
   ]
  },
  {
   "cell_type": "markdown",
   "metadata": {},
   "source": [
    "Качество модели (с помощью средней ошибки аппроксимации $\\overline {A}$):"
   ]
  },
  {
   "cell_type": "code",
   "execution_count": 24,
   "metadata": {},
   "outputs": [
    {
     "data": {
      "text/plain": [
       "11.46925184356171"
      ]
     },
     "execution_count": 24,
     "metadata": {},
     "output_type": "execute_result"
    }
   ],
   "source": [
    "A_mean = 100 * np.mean(np.abs((y - y_pred) / y))\n",
    "A_mean"
   ]
  },
  {
   "cell_type": "markdown",
   "metadata": {},
   "source": [
    "Так как $\\overline {A}$ равна 11%, что немного превышает 8-10 %, модель плохо описывает эмпирические данные. Теоретически значения не близки к тем, которые отражает модель."
   ]
  },
  {
   "cell_type": "code",
   "execution_count": 28,
   "metadata": {},
   "outputs": [
    {
     "data": {
      "image/png": "[encoded data removed]",
      "text/plain": [
       "<Figure size 432x288 with 1 Axes>"
      ]
     },
     "metadata": {
      "needs_background": "light"
     },
     "output_type": "display_data"
    }
   ],
   "source": [
    "plt.scatter(X, y)\n",
    "plt.plot(X, y_pred)\n",
    "plt.xlabel('Заработная плата (тыс. руб.)')\n",
    "plt.ylabel('Скоринговый балл')\n",
    "plt.show()"
   ]
  },
  {
   "cell_type": "markdown",
   "metadata": {},
   "source": [
    "Матричный метод без intercept"
   ]
  },
  {
   "cell_type": "code",
   "execution_count": 29,
   "metadata": {},
   "outputs": [],
   "source": [
    "X = np.array([35, 45, 190, 200, 40, 70, 54, 150, 120, 110], dtype=np.float64)\n",
    "y = np.array([401, 574, 874, 919, 459, 739, 653, 902, 746, 832], dtype=np.float64)\n",
    "n = 10"
   ]
  },
  {
   "cell_type": "code",
   "execution_count": 34,
   "metadata": {},
   "outputs": [],
   "source": [
    "X = X.reshape((n, 1))\n",
    "y = y.reshape((n, 1))"
   ]
  },
  {
   "cell_type": "code",
   "execution_count": 35,
   "metadata": {},
   "outputs": [
    {
     "data": {
      "text/plain": [
       "array([[5.88982042]])"
      ]
     },
     "execution_count": 35,
     "metadata": {},
     "output_type": "execute_result"
    }
   ],
   "source": [
    "B = np.dot(np.linalg.inv(np.dot(X.T,X)), X.T @ y)\n",
    "B"
   ]
  },
  {
   "cell_type": "markdown",
   "metadata": {},
   "source": [
    "2. Посчитать коэффициент линейной регрессии при заработной плате (zp), используя градиентный спуск (без intercept)."
   ]
  },
  {
   "cell_type": "code",
   "execution_count": 36,
   "metadata": {},
   "outputs": [],
   "source": [
    "X = np.array([35, 45, 190, 200, 40, 70, 54, 150, 120, 110], dtype=np.float64)\n",
    "y = np.array([401, 574, 874, 919, 459, 739, 653, 902, 746, 832], dtype=np.float64)\n",
    "n = 10"
   ]
  },
  {
   "cell_type": "code",
   "execution_count": 37,
   "metadata": {},
   "outputs": [],
   "source": [
    "def mse_ (B1, y = y, X = X, n = n):\n",
    "    return np.sum((B1 * X - y)**2 / n)"
   ]
  },
  {
   "cell_type": "code",
   "execution_count": 43,
   "metadata": {},
   "outputs": [],
   "source": [
    "B1 = 0.1"
   ]
  },
  {
   "cell_type": "code",
   "execution_count": 44,
   "metadata": {},
   "outputs": [],
   "source": [
    "alpha = 1e-6"
   ]
  },
  {
   "cell_type": "code",
   "execution_count": 45,
   "metadata": {},
   "outputs": [
    {
     "name": "stdout",
     "output_type": "stream",
     "text": [
      "Iteration: 0, B1=0.21090574, mse=500813.19956255105\n",
      "Iteration: 5000, B1=5.889820420132673, mse=56516.85841571942\n"
     ]
    }
   ],
   "source": [
    "for i in range (10000):\n",
    "    B1 -= alpha*(2/n)*np.sum((B1*X-y)*X)\n",
    "    if i % 5000 == 0:\n",
    "        print('Iteration: {i}, B1={B1}, mse={mse}'.format(i=i, B1=B1, mse=mse_(B1)))"
   ]
  },
  {
   "cell_type": "markdown",
   "metadata": {},
   "source": [
    "*3. Произвести вычисления как в пункте 2, но с вычислением intercept. Учесть, что изменение коэффициентов должно производиться на каждом шаге одновременно (то есть изменение одного коэффициента не должно влиять на изменение другого во время одной итерации)."
   ]
  },
  {
   "cell_type": "code",
   "execution_count": 97,
   "metadata": {},
   "outputs": [],
   "source": [
    "X = np.array([35, 45, 190, 200, 40, 70, 54, 150, 120, 110], dtype=np.float64)\n",
    "y = np.array([401, 574, 874, 919, 459, 739, 653, 902, 746, 832], dtype=np.float64)\n",
    "n = 10"
   ]
  },
  {
   "cell_type": "code",
   "execution_count": 98,
   "metadata": {},
   "outputs": [],
   "source": [
    "def mse_intercept (B0, B1, y = y, X = X, n = n):\n",
    "    return np.sum((B0 + B1 * X - y)**2 / n)"
   ]
  },
  {
   "cell_type": "code",
   "execution_count": 99,
   "metadata": {},
   "outputs": [],
   "source": [
    "B0 = 0.1"
   ]
  },
  {
   "cell_type": "code",
   "execution_count": 100,
   "metadata": {},
   "outputs": [],
   "source": [
    "B1 = 0.1"
   ]
  },
  {
   "cell_type": "code",
   "execution_count": 101,
   "metadata": {},
   "outputs": [],
   "source": [
    "alpha = 5e-5"
   ]
  },
  {
   "cell_type": "code",
   "execution_count": 102,
   "metadata": {},
   "outputs": [
    {
     "name": "stdout",
     "output_type": "stream",
     "text": [
      "Iteration: 0, B0=0.169966 B1=8.07539, mse=122323.7418595209\n",
      "Iteration: 100000, B0=409.03758503899854 B1=2.8791831426087984, mse=181387.0903662731\n",
      "Iteration: 200000, B0=441.39641524523927 B1=2.641007845630212, mse=201925.88388073075\n",
      "Iteration: 300000, B0=443.9572751113981 B1=2.6221587847940984, mse=203618.05565202236\n",
      "Iteration: 400000, B0=444.1599401401525 B1=2.6206670805791092, mse=203752.3912021712\n",
      "Iteration: 500000, B0=444.1759789380671 B1=2.6205490279352976, mse=203763.02506111647\n",
      "Iteration: 600000, B0=444.177248239628 B1=2.6205396853146192, mse=203763.86663520552\n",
      "Iteration: 700000, B0=444.1773486914554 B1=2.620538945944757, mse=203763.9332370188\n",
      "Iteration: 800000, B0=444.17735664115577 B1=2.6205388874314473, mse=203763.938507849\n",
      "Iteration: 900000, B0=444.1773572702843 B1=2.620538882800784, mse=203763.9389249753\n"
     ]
    }
   ],
   "source": [
    "for i in range (1000000):\n",
    "    y_pred = B0 + B1 * X\n",
    "    B0 -= alpha*(2/n)*np.sum((y_pred-y))\n",
    "    B1 -= alpha*(2/n)*np.sum((y_pred-y)*X)\n",
    "    if i % 100000 == 0:\n",
    "        print('Iteration: {i}, B0={B0} B1={B1}, mse={mse}'.format(i=i, B0=B0, B1=B1, mse=mse_(B1)))"
   ]
  },
  {
   "cell_type": "code",
   "execution_count": null,
   "metadata": {},
   "outputs": [],
   "source": []
  }
 ],
 "metadata": {
  "kernelspec": {
   "display_name": "Python 3",
   "language": "python",
   "name": "python3"
  },
  "language_info": {
   "codemirror_mode": {
    "name": "ipython",
    "version": 3
   },
   "file_extension": ".py",
   "mimetype": "text/x-python",
   "name": "python",
   "nbconvert_exporter": "python",
   "pygments_lexer": "ipython3",
   "version": "3.8.3"
  }
 },
 "nbformat": 4,
 "nbformat_minor": 4
}
